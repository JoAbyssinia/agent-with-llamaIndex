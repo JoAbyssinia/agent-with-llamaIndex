{
 "cells": [
  {
   "metadata": {},
   "cell_type": "markdown",
   "source": "# agent with Llamaindex\n",
   "id": "8a77807f92f26ee"
  },
  {
   "metadata": {},
   "cell_type": "markdown",
   "source": [
    "# Agent with LlamaIndex Notebook\n",
    "\n",
    "This notebook demonstrates the implementation of a simple agent using LlamaIndex framework. It showcases:\n",
    "\n",
    "- Setting up a local LLM model using Ollama\n",
    "- Creating custom functions for multiplication and weather data retrieval\n",
    "- Implementing an agent workflow with function tools\n",
    "- Demonstrating both stateless and stateful agent interactions\n",
    "- Using context objects to maintain conversation history\n",
    "\n",
    "The agent is able to perform mathematical operations and fetch weather information through defined function tools.\n"
   ],
   "id": "de954d0e10a2d293"
  },
  {
   "metadata": {},
   "cell_type": "code",
   "source": "pip install llama-index llama-index-llms-ollama",
   "id": "9d63177a08b614fc",
   "outputs": [],
   "execution_count": null
  },
  {
   "metadata": {},
   "cell_type": "code",
   "source": "pip install --upgrade typing_extensions # use python version >= 3.10 or update type extensions",
   "id": "923dc6ca14fdefe8",
   "outputs": [],
   "execution_count": null
  },
  {
   "metadata": {},
   "cell_type": "code",
   "source": [
    "from llama_index.core.agent.workflow import (AgentWorkflow,\n",
    "                                             FunctionAgent,\n",
    "                                             ReActAgent)\n",
    "from llama_index.core.tools import FunctionTool\n",
    "from llama_index.llms.ollama import Ollama\n",
    "# remembering state\n",
    "from llama_index.core.workflow import Context\n"
   ],
   "id": "e07333381ba26d4f",
   "outputs": [],
   "execution_count": null
  },
  {
   "metadata": {},
   "cell_type": "markdown",
   "source": "# initialize local model",
   "id": "d0a66801af4a906d"
  },
  {
   "metadata": {},
   "cell_type": "code",
   "source": [
    "llm = Ollama(model=\"dagbs/qwen2.5-coder-3b-instruct-abliterated:latest\")\n",
    "knowledge_llm = Ollama(model=\"llama3.2:1b\",\n",
    "                       request_timeout=120.0,\n",
    "                        context_window=2048,\n",
    "                       additional_kwargs={\n",
    "                           \"num_gpu\":1,\n",
    "                           \"num_thread\":4,\n",
    "                           \"nlock\":False,\n",
    "                           \"numa\":False\n",
    "                       })"
   ],
   "id": "553304d8c68b3952",
   "outputs": [],
   "execution_count": null
  },
  {
   "metadata": {},
   "cell_type": "markdown",
   "source": "## functions",
   "id": "b86fef65f3e90460"
  },
  {
   "metadata": {},
   "cell_type": "code",
   "source": [
    "def add(a: int, b: int) -> int:\n",
    "    \"\"\"Add two numbers.\"\"\"\n",
    "    return a + b\n",
    "\n",
    "\n",
    "def subtract(a: int, b: int) -> int:\n",
    "    \"\"\"Subtract two numbers.\"\"\"\n",
    "    return a - b\n",
    "\n",
    "def multiply(a:int, b:int) -> int:\n",
    "    \"\"\"Multiply two numbers and return the result.\"\"\"\n",
    "    return a * b"
   ],
   "id": "bbc217166012d760",
   "outputs": [],
   "execution_count": null
  },
  {
   "metadata": {},
   "cell_type": "code",
   "source": [
    "import requests\n",
    "\n",
    "def get_weather(city: str) -> str:\n",
    "    \"\"\" a function that returns the weather data as a string value\"\"\"\n",
    "    url = \"https://api.weatherapi.com/v1/current.json\"\n",
    "    params = {\"key\": \"e40acd9bb9154ea499d34832252505\", \"q\": city, \"aqi\":\"no\"}\n",
    "\n",
    "    resp = requests.get(url, params=params)\n",
    "    if resp.status_code == 200:\n",
    "        response_data = resp.json()\n",
    "        return response_data[\"current\"][\"condition\"][\"text\"]\n",
    "    else:\n",
    "        raise Exception(\"not data found\")\n",
    "    # return f\"The weather in {city} is sunny today.\""
   ],
   "id": "80d36df7ed06bb45",
   "outputs": [],
   "execution_count": null
  },
  {
   "metadata": {},
   "cell_type": "code",
   "source": [
    "# agent configurations\n",
    "\n",
    "calculator_agent = ReActAgent(\n",
    "    name = \"Calculator\",\n",
    "    description=\"Performs basic arithmetic operations like addition, subtraction, multiplication.\",\n",
    "    system_prompt=\"you are a calculator assistant, Use your tools for any math operations\",\n",
    "    tools=[add, subtract, multiply],\n",
    "    llm=llm\n",
    ")\n",
    "\n",
    "weather_agent = ReActAgent(\n",
    "    name=\"weather\",\n",
    "    description=\"Useful for getting the weather for a given location.\",\n",
    "    system_prompt=\"you are a weather assistant, Use your tools for any weather information\",\n",
    "    tools=[get_weather],\n",
    "    llm=llm\n",
    ")\n",
    "\n",
    "knowledge_agent = ReActAgent(\n",
    "    name=\"orchestrator\",\n",
    "    description=\"Useful for to think and remember contexts. and act as an orchestrator agent.\",\n",
    "    system_prompt=\"you are an orchestrator agent, answer questions based on the context. and assign the task to the right agent if necessarily. make sure your answer is concise, accurate, short and the result not the process. example if anybody ask about weather in specific city use the tool the weather tool provided, if someone ask basic math use calculator tool. rather than that use knowledge to memorize and understand the context.\",\n",
    "    llm=knowledge_llm\n",
    ")\n",
    "\n"
   ],
   "id": "e77a3bf501462554",
   "outputs": [],
   "execution_count": null
  },
  {
   "metadata": {},
   "cell_type": "markdown",
   "source": "## agent",
   "id": "547168fc55fe31bc"
  },
  {
   "metadata": {},
   "cell_type": "code",
   "source": "agent = AgentWorkflow(agents=[calculator_agent, weather_agent, knowledge_agent], root_agent=\"orchestrator\")",
   "id": "c4fe978c55656752",
   "outputs": [],
   "execution_count": null
  },
  {
   "metadata": {},
   "cell_type": "code",
   "source": [
    "# initialize context\n",
    "ctx = Context(agent)"
   ],
   "id": "90d755f1a4f5f363",
   "outputs": [],
   "execution_count": null
  },
  {
   "metadata": {},
   "cell_type": "markdown",
   "source": "Agents are stateless by default, add remembering past interactions is opt-in using a Context object This might be useful if you want to use an agent that needs to remember previous interactions, like a chatbot that maintains context across multiple messages or a task manager that needs to track progress over time.",
   "id": "a2dc5bc736bdf1f2"
  },
  {
   "metadata": {},
   "cell_type": "code",
   "source": [
    "# stateless\n",
    "response = await agent.run(user_msg=\"What is 2 times 3?\")\n",
    "print(response)"
   ],
   "id": "246ecadff720286",
   "outputs": [],
   "execution_count": null
  },
  {
   "metadata": {},
   "cell_type": "code",
   "source": "print(await agent.run(user_msg=\"my name is john\", ctx=ctx))",
   "id": "d545152ac639bf5c",
   "outputs": [],
   "execution_count": null
  },
  {
   "metadata": {
    "jupyter": {
     "is_executing": true
    }
   },
   "cell_type": "code",
   "source": "print(await agent.run(user_msg=\"what is my name?\", ctx=ctx))",
   "id": "13144642e2a0f166",
   "outputs": [],
   "execution_count": null
  },
  {
   "metadata": {},
   "cell_type": "code",
   "source": "print(await agent.run(user_msg=\"what is the weather in washington DC?\"))",
   "id": "70f12c4613fb1a26",
   "outputs": [],
   "execution_count": null
  },
  {
   "metadata": {},
   "cell_type": "code",
   "source": "print(await agent.run(user_msg=\"create a python function that sort a list of numbers by using bubble sort algorithm\"))",
   "id": "dcab1de411a5bb6e",
   "outputs": [],
   "execution_count": null
  }
 ],
 "metadata": {
  "kernelspec": {
   "display_name": "Python 3",
   "language": "python",
   "name": "python3"
  },
  "language_info": {
   "codemirror_mode": {
    "name": "ipython",
    "version": 2
   },
   "file_extension": ".py",
   "mimetype": "text/x-python",
   "name": "python",
   "nbconvert_exporter": "python",
   "pygments_lexer": "ipython2",
   "version": "2.7.6"
  }
 },
 "nbformat": 4,
 "nbformat_minor": 5
}
