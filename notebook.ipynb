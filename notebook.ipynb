{
 "cells": [
  {
   "metadata": {},
   "cell_type": "markdown",
   "source": "# agent with Llamaindex\n",
   "id": "8a77807f92f26ee"
  },
  {
   "metadata": {},
   "cell_type": "markdown",
   "source": [
    "# Agent with LlamaIndex Notebook\n",
    "\n",
    "This notebook demonstrates the implementation of a simple agent using LlamaIndex framework. It showcases:\n",
    "\n",
    "- Setting up a local LLM model using Ollama\n",
    "- Creating custom functions for multiplication and weather data retrieval\n",
    "- Implementing an agent workflow with function tools\n",
    "- Demonstrating both stateless and stateful agent interactions\n",
    "- Using context objects to maintain conversation history\n",
    "\n",
    "The agent is able to perform mathematical operations and fetch weather information through defined function tools.\n"
   ],
   "id": "de954d0e10a2d293"
  },
  {
   "metadata": {
    "ExecuteTime": {
     "end_time": "2025-05-25T04:40:44.541548Z",
     "start_time": "2025-05-25T04:40:42.976787Z"
    }
   },
   "cell_type": "code",
   "source": "pip install llama-index llama-index-llms-ollama",
   "id": "9d63177a08b614fc",
   "outputs": [
    {
     "name": "stdout",
     "output_type": "stream",
     "text": [
      "Requirement already satisfied: llama-index in /Users/yohannesyimam/Documents/Projects/deffusion_model/venv/lib/python3.9/site-packages (0.12.37)\r\n",
      "Requirement already satisfied: llama-index-llms-ollama in /Users/yohannesyimam/Documents/Projects/deffusion_model/venv/lib/python3.9/site-packages (0.5.6)\r\n",
      "Requirement already satisfied: llama-index-llms-openai<0.4,>=0.3.0 in /Users/yohannesyimam/Documents/Projects/deffusion_model/venv/lib/python3.9/site-packages (from llama-index) (0.3.44)\r\n",
      "Requirement already satisfied: nltk>3.8.1 in /Users/yohannesyimam/Documents/Projects/deffusion_model/venv/lib/python3.9/site-packages (from llama-index) (3.9.1)\r\n",
      "Requirement already satisfied: llama-index-core<0.13,>=0.12.36 in /Users/yohannesyimam/Documents/Projects/deffusion_model/venv/lib/python3.9/site-packages (from llama-index) (0.12.37)\r\n",
      "Requirement already satisfied: llama-index-program-openai<0.4,>=0.3.0 in /Users/yohannesyimam/Documents/Projects/deffusion_model/venv/lib/python3.9/site-packages (from llama-index) (0.3.1)\r\n",
      "Requirement already satisfied: llama-index-readers-file<0.5,>=0.4.0 in /Users/yohannesyimam/Documents/Projects/deffusion_model/venv/lib/python3.9/site-packages (from llama-index) (0.4.7)\r\n",
      "Requirement already satisfied: llama-index-embeddings-openai<0.4,>=0.3.0 in /Users/yohannesyimam/Documents/Projects/deffusion_model/venv/lib/python3.9/site-packages (from llama-index) (0.3.1)\r\n",
      "Requirement already satisfied: llama-index-readers-llama-parse>=0.4.0 in /Users/yohannesyimam/Documents/Projects/deffusion_model/venv/lib/python3.9/site-packages (from llama-index) (0.4.0)\r\n",
      "Requirement already satisfied: llama-index-indices-managed-llama-cloud>=0.4.0 in /Users/yohannesyimam/Documents/Projects/deffusion_model/venv/lib/python3.9/site-packages (from llama-index) (0.6.11)\r\n",
      "Requirement already satisfied: llama-index-question-gen-openai<0.4,>=0.3.0 in /Users/yohannesyimam/Documents/Projects/deffusion_model/venv/lib/python3.9/site-packages (from llama-index) (0.3.0)\r\n",
      "Requirement already satisfied: llama-index-cli<0.5,>=0.4.1 in /Users/yohannesyimam/Documents/Projects/deffusion_model/venv/lib/python3.9/site-packages (from llama-index) (0.4.1)\r\n",
      "Requirement already satisfied: llama-index-agent-openai<0.5,>=0.4.0 in /Users/yohannesyimam/Documents/Projects/deffusion_model/venv/lib/python3.9/site-packages (from llama-index) (0.4.8)\r\n",
      "Requirement already satisfied: llama-index-multi-modal-llms-openai<0.5,>=0.4.0 in /Users/yohannesyimam/Documents/Projects/deffusion_model/venv/lib/python3.9/site-packages (from llama-index) (0.4.3)\r\n",
      "Requirement already satisfied: ollama>=0.4.3 in /Users/yohannesyimam/Documents/Projects/deffusion_model/venv/lib/python3.9/site-packages (from llama-index-llms-ollama) (0.4.8)\r\n",
      "Requirement already satisfied: openai>=1.14.0 in /Users/yohannesyimam/Documents/Projects/deffusion_model/venv/lib/python3.9/site-packages (from llama-index-agent-openai<0.5,>=0.4.0->llama-index) (1.82.0)\r\n",
      "Requirement already satisfied: aiohttp<4,>=3.8.6 in /Users/yohannesyimam/Documents/Projects/deffusion_model/venv/lib/python3.9/site-packages (from llama-index-core<0.13,>=0.12.36->llama-index) (3.12.0)\r\n",
      "Requirement already satisfied: dataclasses-json in /Users/yohannesyimam/Documents/Projects/deffusion_model/venv/lib/python3.9/site-packages (from llama-index-core<0.13,>=0.12.36->llama-index) (0.6.7)\r\n",
      "Requirement already satisfied: sqlalchemy[asyncio]>=1.4.49 in /Users/yohannesyimam/Documents/Projects/deffusion_model/venv/lib/python3.9/site-packages (from llama-index-core<0.13,>=0.12.36->llama-index) (2.0.41)\r\n",
      "Requirement already satisfied: networkx>=3.0 in /Users/yohannesyimam/Documents/Projects/deffusion_model/venv/lib/python3.9/site-packages (from llama-index-core<0.13,>=0.12.36->llama-index) (3.2.1)\r\n",
      "Requirement already satisfied: pydantic>=2.8.0 in /Users/yohannesyimam/Documents/Projects/deffusion_model/venv/lib/python3.9/site-packages (from llama-index-core<0.13,>=0.12.36->llama-index) (2.11.5)\r\n",
      "Requirement already satisfied: wrapt in /Users/yohannesyimam/Documents/Projects/deffusion_model/venv/lib/python3.9/site-packages (from llama-index-core<0.13,>=0.12.36->llama-index) (1.17.2)\r\n",
      "Requirement already satisfied: fsspec>=2023.5.0 in /Users/yohannesyimam/Documents/Projects/deffusion_model/venv/lib/python3.9/site-packages (from llama-index-core<0.13,>=0.12.36->llama-index) (2025.5.1)\r\n",
      "Requirement already satisfied: numpy in /Users/yohannesyimam/Documents/Projects/deffusion_model/venv/lib/python3.9/site-packages (from llama-index-core<0.13,>=0.12.36->llama-index) (2.0.2)\r\n",
      "Requirement already satisfied: banks<3,>=2.0.0 in /Users/yohannesyimam/Documents/Projects/deffusion_model/venv/lib/python3.9/site-packages (from llama-index-core<0.13,>=0.12.36->llama-index) (2.1.2)\r\n",
      "Requirement already satisfied: tenacity!=8.4.0,<10.0.0,>=8.2.0 in /Users/yohannesyimam/Documents/Projects/deffusion_model/venv/lib/python3.9/site-packages (from llama-index-core<0.13,>=0.12.36->llama-index) (9.1.2)\r\n",
      "Requirement already satisfied: typing-extensions>=4.5.0 in /Users/yohannesyimam/Documents/Projects/deffusion_model/venv/lib/python3.9/site-packages (from llama-index-core<0.13,>=0.12.36->llama-index) (4.13.2)\r\n",
      "Requirement already satisfied: pyyaml>=6.0.1 in /Users/yohannesyimam/Documents/Projects/deffusion_model/venv/lib/python3.9/site-packages (from llama-index-core<0.13,>=0.12.36->llama-index) (6.0.2)\r\n",
      "Requirement already satisfied: aiosqlite in /Users/yohannesyimam/Documents/Projects/deffusion_model/venv/lib/python3.9/site-packages (from llama-index-core<0.13,>=0.12.36->llama-index) (0.21.0)\r\n",
      "Requirement already satisfied: tiktoken>=0.7.0 in /Users/yohannesyimam/Documents/Projects/deffusion_model/venv/lib/python3.9/site-packages (from llama-index-core<0.13,>=0.12.36->llama-index) (0.9.0)\r\n",
      "Requirement already satisfied: typing-inspect>=0.8.0 in /Users/yohannesyimam/Documents/Projects/deffusion_model/venv/lib/python3.9/site-packages (from llama-index-core<0.13,>=0.12.36->llama-index) (0.9.0)\r\n",
      "Requirement already satisfied: deprecated>=1.2.9.3 in /Users/yohannesyimam/Documents/Projects/deffusion_model/venv/lib/python3.9/site-packages (from llama-index-core<0.13,>=0.12.36->llama-index) (1.2.18)\r\n",
      "Requirement already satisfied: dirtyjson<2,>=1.0.8 in /Users/yohannesyimam/Documents/Projects/deffusion_model/venv/lib/python3.9/site-packages (from llama-index-core<0.13,>=0.12.36->llama-index) (1.0.8)\r\n",
      "Requirement already satisfied: pillow>=9.0.0 in /Users/yohannesyimam/Documents/Projects/deffusion_model/venv/lib/python3.9/site-packages (from llama-index-core<0.13,>=0.12.36->llama-index) (11.2.1)\r\n",
      "Requirement already satisfied: eval-type-backport<0.3,>=0.2.0 in /Users/yohannesyimam/Documents/Projects/deffusion_model/venv/lib/python3.9/site-packages (from llama-index-core<0.13,>=0.12.36->llama-index) (0.2.2)\r\n",
      "Requirement already satisfied: tqdm<5,>=4.66.1 in /Users/yohannesyimam/Documents/Projects/deffusion_model/venv/lib/python3.9/site-packages (from llama-index-core<0.13,>=0.12.36->llama-index) (4.67.1)\r\n",
      "Requirement already satisfied: filetype<2,>=1.2.0 in /Users/yohannesyimam/Documents/Projects/deffusion_model/venv/lib/python3.9/site-packages (from llama-index-core<0.13,>=0.12.36->llama-index) (1.2.0)\r\n",
      "Requirement already satisfied: requests>=2.31.0 in /Users/yohannesyimam/Documents/Projects/deffusion_model/venv/lib/python3.9/site-packages (from llama-index-core<0.13,>=0.12.36->llama-index) (2.32.3)\r\n",
      "Requirement already satisfied: httpx in /Users/yohannesyimam/Documents/Projects/deffusion_model/venv/lib/python3.9/site-packages (from llama-index-core<0.13,>=0.12.36->llama-index) (0.28.1)\r\n",
      "Requirement already satisfied: nest-asyncio<2,>=1.5.8 in /Users/yohannesyimam/Documents/Projects/deffusion_model/venv/lib/python3.9/site-packages (from llama-index-core<0.13,>=0.12.36->llama-index) (1.6.0)\r\n",
      "Requirement already satisfied: frozenlist>=1.1.1 in /Users/yohannesyimam/Documents/Projects/deffusion_model/venv/lib/python3.9/site-packages (from aiohttp<4,>=3.8.6->llama-index-core<0.13,>=0.12.36->llama-index) (1.6.0)\r\n",
      "Requirement already satisfied: aiosignal>=1.1.2 in /Users/yohannesyimam/Documents/Projects/deffusion_model/venv/lib/python3.9/site-packages (from aiohttp<4,>=3.8.6->llama-index-core<0.13,>=0.12.36->llama-index) (1.3.2)\r\n",
      "Requirement already satisfied: yarl<2.0,>=1.17.0 in /Users/yohannesyimam/Documents/Projects/deffusion_model/venv/lib/python3.9/site-packages (from aiohttp<4,>=3.8.6->llama-index-core<0.13,>=0.12.36->llama-index) (1.20.0)\r\n",
      "Requirement already satisfied: aiohappyeyeballs>=2.5.0 in /Users/yohannesyimam/Documents/Projects/deffusion_model/venv/lib/python3.9/site-packages (from aiohttp<4,>=3.8.6->llama-index-core<0.13,>=0.12.36->llama-index) (2.6.1)\r\n",
      "Requirement already satisfied: async-timeout<6.0,>=4.0 in /Users/yohannesyimam/Documents/Projects/deffusion_model/venv/lib/python3.9/site-packages (from aiohttp<4,>=3.8.6->llama-index-core<0.13,>=0.12.36->llama-index) (5.0.1)\r\n",
      "Requirement already satisfied: multidict<7.0,>=4.5 in /Users/yohannesyimam/Documents/Projects/deffusion_model/venv/lib/python3.9/site-packages (from aiohttp<4,>=3.8.6->llama-index-core<0.13,>=0.12.36->llama-index) (6.4.4)\r\n",
      "Requirement already satisfied: propcache>=0.2.0 in /Users/yohannesyimam/Documents/Projects/deffusion_model/venv/lib/python3.9/site-packages (from aiohttp<4,>=3.8.6->llama-index-core<0.13,>=0.12.36->llama-index) (0.3.1)\r\n",
      "Requirement already satisfied: attrs>=17.3.0 in /Users/yohannesyimam/Documents/Projects/deffusion_model/venv/lib/python3.9/site-packages (from aiohttp<4,>=3.8.6->llama-index-core<0.13,>=0.12.36->llama-index) (23.1.0)\r\n",
      "Requirement already satisfied: platformdirs in /Users/yohannesyimam/Documents/Projects/deffusion_model/venv/lib/python3.9/site-packages (from banks<3,>=2.0.0->llama-index-core<0.13,>=0.12.36->llama-index) (4.3.8)\r\n",
      "Requirement already satisfied: griffe in /Users/yohannesyimam/Documents/Projects/deffusion_model/venv/lib/python3.9/site-packages (from banks<3,>=2.0.0->llama-index-core<0.13,>=0.12.36->llama-index) (1.7.3)\r\n",
      "Requirement already satisfied: jinja2 in /Users/yohannesyimam/Documents/Projects/deffusion_model/venv/lib/python3.9/site-packages (from banks<3,>=2.0.0->llama-index-core<0.13,>=0.12.36->llama-index) (3.1.2)\r\n",
      "Requirement already satisfied: llama-cloud<0.2.0,>=0.1.13 in /Users/yohannesyimam/Documents/Projects/deffusion_model/venv/lib/python3.9/site-packages (from llama-index-indices-managed-llama-cloud>=0.4.0->llama-index) (0.1.22)\r\n",
      "Requirement already satisfied: certifi>=2024.7.4 in /Users/yohannesyimam/Documents/Projects/deffusion_model/venv/lib/python3.9/site-packages (from llama-cloud<0.2.0,>=0.1.13->llama-index-indices-managed-llama-cloud>=0.4.0->llama-index) (2025.4.26)\r\n",
      "Requirement already satisfied: idna in /Users/yohannesyimam/Documents/Projects/deffusion_model/venv/lib/python3.9/site-packages (from httpx->llama-index-core<0.13,>=0.12.36->llama-index) (3.4)\r\n",
      "Requirement already satisfied: anyio in /Users/yohannesyimam/Documents/Projects/deffusion_model/venv/lib/python3.9/site-packages (from httpx->llama-index-core<0.13,>=0.12.36->llama-index) (3.7.0)\r\n",
      "Requirement already satisfied: httpcore==1.* in /Users/yohannesyimam/Documents/Projects/deffusion_model/venv/lib/python3.9/site-packages (from httpx->llama-index-core<0.13,>=0.12.36->llama-index) (1.0.9)\r\n",
      "Requirement already satisfied: h11>=0.16 in /Users/yohannesyimam/Documents/Projects/deffusion_model/venv/lib/python3.9/site-packages (from httpcore==1.*->httpx->llama-index-core<0.13,>=0.12.36->llama-index) (0.16.0)\r\n",
      "Requirement already satisfied: pandas in /Users/yohannesyimam/Documents/Projects/deffusion_model/venv/lib/python3.9/site-packages (from llama-index-readers-file<0.5,>=0.4.0->llama-index) (2.2.3)\r\n",
      "Requirement already satisfied: striprtf<0.0.27,>=0.0.26 in /Users/yohannesyimam/Documents/Projects/deffusion_model/venv/lib/python3.9/site-packages (from llama-index-readers-file<0.5,>=0.4.0->llama-index) (0.0.26)\r\n",
      "Requirement already satisfied: pypdf<6.0.0,>=5.1.0 in /Users/yohannesyimam/Documents/Projects/deffusion_model/venv/lib/python3.9/site-packages (from llama-index-readers-file<0.5,>=0.4.0->llama-index) (5.5.0)\r\n",
      "Requirement already satisfied: beautifulsoup4<5.0.0,>=4.12.3 in /Users/yohannesyimam/Documents/Projects/deffusion_model/venv/lib/python3.9/site-packages (from llama-index-readers-file<0.5,>=0.4.0->llama-index) (4.13.4)\r\n",
      "Requirement already satisfied: soupsieve>1.2 in /Users/yohannesyimam/Documents/Projects/deffusion_model/venv/lib/python3.9/site-packages (from beautifulsoup4<5.0.0,>=4.12.3->llama-index-readers-file<0.5,>=0.4.0->llama-index) (2.4.1)\r\n",
      "Requirement already satisfied: llama-parse>=0.5.0 in /Users/yohannesyimam/Documents/Projects/deffusion_model/venv/lib/python3.9/site-packages (from llama-index-readers-llama-parse>=0.4.0->llama-index) (0.6.23)\r\n",
      "Requirement already satisfied: llama-cloud-services>=0.6.23 in /Users/yohannesyimam/Documents/Projects/deffusion_model/venv/lib/python3.9/site-packages (from llama-parse>=0.5.0->llama-index-readers-llama-parse>=0.4.0->llama-index) (0.6.23)\r\n",
      "Requirement already satisfied: click<9.0.0,>=8.1.7 in /Users/yohannesyimam/Documents/Projects/deffusion_model/venv/lib/python3.9/site-packages (from llama-cloud-services>=0.6.23->llama-parse>=0.5.0->llama-index-readers-llama-parse>=0.4.0->llama-index) (8.1.8)\r\n",
      "Requirement already satisfied: python-dotenv<2.0.0,>=1.0.1 in /Users/yohannesyimam/Documents/Projects/deffusion_model/venv/lib/python3.9/site-packages (from llama-cloud-services>=0.6.23->llama-parse>=0.5.0->llama-index-readers-llama-parse>=0.4.0->llama-index) (1.1.0)\r\n",
      "Requirement already satisfied: regex>=2021.8.3 in /Users/yohannesyimam/Documents/Projects/deffusion_model/venv/lib/python3.9/site-packages (from nltk>3.8.1->llama-index) (2024.11.6)\r\n",
      "Requirement already satisfied: joblib in /Users/yohannesyimam/Documents/Projects/deffusion_model/venv/lib/python3.9/site-packages (from nltk>3.8.1->llama-index) (1.5.1)\r\n",
      "Requirement already satisfied: jiter<1,>=0.4.0 in /Users/yohannesyimam/Documents/Projects/deffusion_model/venv/lib/python3.9/site-packages (from openai>=1.14.0->llama-index-agent-openai<0.5,>=0.4.0->llama-index) (0.10.0)\r\n",
      "Requirement already satisfied: distro<2,>=1.7.0 in /Users/yohannesyimam/Documents/Projects/deffusion_model/venv/lib/python3.9/site-packages (from openai>=1.14.0->llama-index-agent-openai<0.5,>=0.4.0->llama-index) (1.9.0)\r\n",
      "Requirement already satisfied: sniffio in /Users/yohannesyimam/Documents/Projects/deffusion_model/venv/lib/python3.9/site-packages (from openai>=1.14.0->llama-index-agent-openai<0.5,>=0.4.0->llama-index) (1.3.0)\r\n",
      "Requirement already satisfied: exceptiongroup in /Users/yohannesyimam/Documents/Projects/deffusion_model/venv/lib/python3.9/site-packages (from anyio->httpx->llama-index-core<0.13,>=0.12.36->llama-index) (1.1.1)\r\n",
      "Requirement already satisfied: typing-inspection>=0.4.0 in /Users/yohannesyimam/Documents/Projects/deffusion_model/venv/lib/python3.9/site-packages (from pydantic>=2.8.0->llama-index-core<0.13,>=0.12.36->llama-index) (0.4.1)\r\n",
      "Requirement already satisfied: pydantic-core==2.33.2 in /Users/yohannesyimam/Documents/Projects/deffusion_model/venv/lib/python3.9/site-packages (from pydantic>=2.8.0->llama-index-core<0.13,>=0.12.36->llama-index) (2.33.2)\r\n",
      "Requirement already satisfied: annotated-types>=0.6.0 in /Users/yohannesyimam/Documents/Projects/deffusion_model/venv/lib/python3.9/site-packages (from pydantic>=2.8.0->llama-index-core<0.13,>=0.12.36->llama-index) (0.7.0)\r\n",
      "Requirement already satisfied: urllib3<3,>=1.21.1 in /Users/yohannesyimam/Documents/Projects/deffusion_model/venv/lib/python3.9/site-packages (from requests>=2.31.0->llama-index-core<0.13,>=0.12.36->llama-index) (2.4.0)\r\n",
      "Requirement already satisfied: charset-normalizer<4,>=2 in /Users/yohannesyimam/Documents/Projects/deffusion_model/venv/lib/python3.9/site-packages (from requests>=2.31.0->llama-index-core<0.13,>=0.12.36->llama-index) (3.4.2)\r\n",
      "Requirement already satisfied: greenlet>=1 in /Users/yohannesyimam/Documents/Projects/deffusion_model/venv/lib/python3.9/site-packages (from sqlalchemy[asyncio]>=1.4.49->llama-index-core<0.13,>=0.12.36->llama-index) (3.2.2)\r\n",
      "Requirement already satisfied: mypy-extensions>=0.3.0 in /Users/yohannesyimam/Documents/Projects/deffusion_model/venv/lib/python3.9/site-packages (from typing-inspect>=0.8.0->llama-index-core<0.13,>=0.12.36->llama-index) (1.1.0)\r\n",
      "Requirement already satisfied: marshmallow<4.0.0,>=3.18.0 in /Users/yohannesyimam/Documents/Projects/deffusion_model/venv/lib/python3.9/site-packages (from dataclasses-json->llama-index-core<0.13,>=0.12.36->llama-index) (3.26.1)\r\n",
      "Requirement already satisfied: packaging>=17.0 in /Users/yohannesyimam/Documents/Projects/deffusion_model/venv/lib/python3.9/site-packages (from marshmallow<4.0.0,>=3.18.0->dataclasses-json->llama-index-core<0.13,>=0.12.36->llama-index) (23.1)\r\n",
      "Requirement already satisfied: colorama>=0.4 in /Users/yohannesyimam/Documents/Projects/deffusion_model/venv/lib/python3.9/site-packages (from griffe->banks<3,>=2.0.0->llama-index-core<0.13,>=0.12.36->llama-index) (0.4.6)\r\n",
      "Requirement already satisfied: MarkupSafe>=2.0 in /Users/yohannesyimam/Documents/Projects/deffusion_model/venv/lib/python3.9/site-packages (from jinja2->banks<3,>=2.0.0->llama-index-core<0.13,>=0.12.36->llama-index) (2.1.2)\r\n",
      "Requirement already satisfied: pytz>=2020.1 in /Users/yohannesyimam/Documents/Projects/deffusion_model/venv/lib/python3.9/site-packages (from pandas->llama-index-readers-file<0.5,>=0.4.0->llama-index) (2025.2)\r\n",
      "Requirement already satisfied: python-dateutil>=2.8.2 in /Users/yohannesyimam/Documents/Projects/deffusion_model/venv/lib/python3.9/site-packages (from pandas->llama-index-readers-file<0.5,>=0.4.0->llama-index) (2.8.2)\r\n",
      "Requirement already satisfied: tzdata>=2022.7 in /Users/yohannesyimam/Documents/Projects/deffusion_model/venv/lib/python3.9/site-packages (from pandas->llama-index-readers-file<0.5,>=0.4.0->llama-index) (2025.2)\r\n",
      "Requirement already satisfied: six>=1.5 in /Users/yohannesyimam/Documents/Projects/deffusion_model/venv/lib/python3.9/site-packages (from python-dateutil>=2.8.2->pandas->llama-index-readers-file<0.5,>=0.4.0->llama-index) (1.16.0)\r\n",
      "\u001B[33mWARNING: You are using pip version 21.2.4; however, version 25.1.1 is available.\r\n",
      "You should consider upgrading via the '/Users/yohannesyimam/Documents/Projects/deffusion_model/venv/bin/python -m pip install --upgrade pip' command.\u001B[0m\r\n",
      "Note: you may need to restart the kernel to use updated packages.\n"
     ]
    }
   ],
   "execution_count": 63
  },
  {
   "metadata": {
    "ExecuteTime": {
     "end_time": "2025-05-25T04:40:45.587872Z",
     "start_time": "2025-05-25T04:40:44.555238Z"
    }
   },
   "cell_type": "code",
   "source": "pip install --upgrade typing_extensions # use python version >= 3.10 or update type extensions",
   "id": "923dc6ca14fdefe8",
   "outputs": [
    {
     "name": "stdout",
     "output_type": "stream",
     "text": [
      "Requirement already satisfied: typing_extensions in /Users/yohannesyimam/Documents/Projects/deffusion_model/venv/lib/python3.9/site-packages (4.13.2)\r\n",
      "\u001B[33mWARNING: You are using pip version 21.2.4; however, version 25.1.1 is available.\r\n",
      "You should consider upgrading via the '/Users/yohannesyimam/Documents/Projects/deffusion_model/venv/bin/python -m pip install --upgrade pip' command.\u001B[0m\r\n",
      "Note: you may need to restart the kernel to use updated packages.\n"
     ]
    }
   ],
   "execution_count": 64
  },
  {
   "metadata": {
    "ExecuteTime": {
     "end_time": "2025-05-25T04:40:45.606740Z",
     "start_time": "2025-05-25T04:40:45.601651Z"
    }
   },
   "cell_type": "code",
   "source": [
    "from llama_index.core.agent.workflow import (AgentWorkflow,\n",
    "                                             FunctionAgent,\n",
    "                                             ReActAgent)\n",
    "from llama_index.core.tools import FunctionTool\n",
    "from llama_index.llms.ollama import Ollama"
   ],
   "id": "e07333381ba26d4f",
   "outputs": [],
   "execution_count": 65
  },
  {
   "metadata": {},
   "cell_type": "markdown",
   "source": "# initialize local model",
   "id": "d0a66801af4a906d"
  },
  {
   "metadata": {
    "ExecuteTime": {
     "end_time": "2025-05-25T04:40:45.633125Z",
     "start_time": "2025-05-25T04:40:45.628039Z"
    }
   },
   "cell_type": "code",
   "source": "llm = Ollama(model=\"dagbs/qwen2.5-coder-7b-instruct-abliterated:latest\")",
   "id": "553304d8c68b3952",
   "outputs": [],
   "execution_count": 66
  },
  {
   "metadata": {},
   "cell_type": "markdown",
   "source": "## functions",
   "id": "b86fef65f3e90460"
  },
  {
   "metadata": {
    "ExecuteTime": {
     "end_time": "2025-05-25T04:40:45.649621Z",
     "start_time": "2025-05-25T04:40:45.646779Z"
    }
   },
   "cell_type": "code",
   "source": [
    "def add(a: int, b: int) -> int:\n",
    "    \"\"\"Add two numbers.\"\"\"\n",
    "    return a + b\n",
    "\n",
    "\n",
    "def subtract(a: int, b: int) -> int:\n",
    "    \"\"\"Subtract two numbers.\"\"\"\n",
    "    return a - b\n",
    "\n",
    "def multiply(a:int, b:int) -> int:\n",
    "    \"\"\"Multiply two numbers and return the result.\"\"\"\n",
    "    return a * b"
   ],
   "id": "bbc217166012d760",
   "outputs": [],
   "execution_count": 67
  },
  {
   "metadata": {
    "ExecuteTime": {
     "end_time": "2025-05-25T04:40:45.668472Z",
     "start_time": "2025-05-25T04:40:45.665201Z"
    }
   },
   "cell_type": "code",
   "source": [
    "import requests\n",
    "\n",
    "def get_weather(city: str) -> str:\n",
    "    \"\"\" a function that returns the weather data as a string value\"\"\"\n",
    "    url = \"https://api.weatherapi.com/v1/current.json\"\n",
    "    params = {\"key\": \"e40acd9bb9154ea499d34832252505\", \"q\": city, \"aqi\":\"no\"}\n",
    "\n",
    "    resp = requests.get(url, params=params)\n",
    "    if resp.status_code == 200:\n",
    "        response_data = resp.json()\n",
    "        return response_data[\"current\"][\"condition\"][\"text\"]\n",
    "    else:\n",
    "        raise Exception(\"not data found\")\n",
    "    # return f\"The weather in {city} is sunny today.\""
   ],
   "id": "80d36df7ed06bb45",
   "outputs": [],
   "execution_count": 68
  },
  {
   "metadata": {
    "ExecuteTime": {
     "end_time": "2025-05-25T04:40:45.695762Z",
     "start_time": "2025-05-25T04:40:45.689733Z"
    }
   },
   "cell_type": "code",
   "source": [
    "# agent configurations\n",
    "\n",
    "calculator_agent = ReActAgent(\n",
    "    name = \"Calculator\",\n",
    "    description=\"Performs basic arithmetic operations\",\n",
    "    system_prompt=\"you are a calculator assistant, Use your tools for any math operations\",\n",
    "    tools=[add, subtract, multiply],\n",
    "    llm=llm\n",
    ")\n",
    "\n",
    "weather_agent = ReActAgent(\n",
    "    name=\"weather\",\n",
    "    description=\"Useful for getting the weather for a given location.\",\n",
    "    system_prompt=\"you are a weather assistant, Use your tools for any weather information\",\n",
    "    tools=[get_weather],\n",
    "    llm=llm\n",
    ")\n"
   ],
   "id": "e77a3bf501462554",
   "outputs": [],
   "execution_count": 69
  },
  {
   "metadata": {},
   "cell_type": "markdown",
   "source": "## agent",
   "id": "547168fc55fe31bc"
  },
  {
   "metadata": {
    "ExecuteTime": {
     "end_time": "2025-05-25T04:40:45.722211Z",
     "start_time": "2025-05-25T04:40:45.717012Z"
    }
   },
   "cell_type": "code",
   "source": "agent = AgentWorkflow(agents=[calculator_agent, weather_agent], root_agent=\"weather\")",
   "id": "c4fe978c55656752",
   "outputs": [],
   "execution_count": 70
  },
  {
   "metadata": {},
   "cell_type": "markdown",
   "source": "Agents are stateless by default, add remembering past interactions is opt-in using a Context object This might be useful if you want to use an agent that needs to remember previous interactions, like a chatbot that maintains context across multiple messages or a task manager that needs to track progress over time.",
   "id": "a2dc5bc736bdf1f2"
  },
  {
   "metadata": {
    "jupyter": {
     "is_executing": true
    },
    "ExecuteTime": {
     "start_time": "2025-05-25T04:42:58.309593Z"
    }
   },
   "cell_type": "code",
   "source": [
    "# stateless\n",
    "response = await agent.run(user_msg=\"What is 2 times 3?\")\n",
    "print(response)\n",
    "# remembering state\n",
    "from llama_index.core.workflow import Context\n",
    "\n",
    "ctx = Context(agent)\n",
    "\n",
    "await agent.run(user_msg=\"my name is john\", ctx=ctx)\n",
    "response = await agent.run(user_msg=\"What was my name \", ctx=ctx)\n",
    "print(response)\n"
   ],
   "id": "ed7955d801f16ada",
   "outputs": [],
   "execution_count": null
  },
  {
   "metadata": {
    "ExecuteTime": {
     "end_time": "2025-05-25T04:42:54.398801Z",
     "start_time": "2025-05-25T04:42:49.911962Z"
    }
   },
   "cell_type": "code",
   "source": "print(await agent.run(user_msg=\"what is my name?\", ctx=ctx))",
   "id": "13144642e2a0f166",
   "outputs": [
    {
     "name": "stdout",
     "output_type": "stream",
     "text": [
      "Your name is John.\n"
     ]
    }
   ],
   "execution_count": 75
  },
  {
   "metadata": {
    "ExecuteTime": {
     "end_time": "2025-05-25T04:42:43.273257Z",
     "start_time": "2025-05-25T04:42:36.997699Z"
    }
   },
   "cell_type": "code",
   "source": "print(await agent.run(user_msg=\"what is the weather in new york city?\"))",
   "id": "70f12c4613fb1a26",
   "outputs": [
    {
     "name": "stdout",
     "output_type": "stream",
     "text": [
      "The weather in New York City is overcast.\n"
     ]
    }
   ],
   "execution_count": 74
  }
 ],
 "metadata": {
  "kernelspec": {
   "display_name": "Python 3",
   "language": "python",
   "name": "python3"
  },
  "language_info": {
   "codemirror_mode": {
    "name": "ipython",
    "version": 2
   },
   "file_extension": ".py",
   "mimetype": "text/x-python",
   "name": "python",
   "nbconvert_exporter": "python",
   "pygments_lexer": "ipython2",
   "version": "2.7.6"
  }
 },
 "nbformat": 4,
 "nbformat_minor": 5
}
