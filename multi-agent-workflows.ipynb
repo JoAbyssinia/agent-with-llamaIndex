{
 "cells": [
  {
   "cell_type": "code",
   "id": "initial_id",
   "metadata": {
    "collapsed": true
   },
   "source": [
    "from llama_index.core.agent.workflow import AgentWorkflow, ReActAgent\n",
    "from llama_index.core.workflow import Context\n",
    "from llama_index.llms.ollama import Ollama"
   ],
   "outputs": [],
   "execution_count": null
  },
  {
   "metadata": {},
   "cell_type": "code",
   "source": [
    "async def add(ctx:Context, a:int, b:int) -> int:\n",
    "    \"\"\"Add two numbers.\"\"\"\n",
    "    cur_state = await ctx.get(\"state\")\n",
    "    cur_state[\"num_fn_calls\"] += 1\n",
    "    await ctx.set(\"state\", cur_state)\n",
    "    return a + b\n",
    "\n",
    "async def multiply(ctx:Context, a:int, b:int) -> int:\n",
    "    \"\"\"Multiply two numbers\"\"\"\n",
    "    cur_state = await ctx.get(\"state\")\n",
    "    cur_state[\"num_fn_calls\"] += 1\n",
    "    await ctx.set(\"state\", cur_state)\n",
    "    return a * b\n",
    "\n"
   ],
   "id": "370f774816f1168c",
   "outputs": [],
   "execution_count": null
  },
  {
   "metadata": {},
   "cell_type": "code",
   "source": [
    "llm = Ollama(\n",
    "    model=\"llama3.2:1b\",\n",
    "    request_timeout=1200.0,\n",
    "    context_window=2048,\n",
    "    additional_kwargs={\n",
    "       \"num_gpu\":1,\n",
    "       \"num_thread\":4,\n",
    "       \"nlock\":False,\n",
    "       \"numa\":False\n",
    "    }\n",
    ")"
   ],
   "id": "32f48455a42f322b",
   "outputs": [],
   "execution_count": null
  },
  {
   "metadata": {},
   "cell_type": "code",
   "source": [
    "multiply_agent = ReActAgent(\n",
    "    name=\"multiply_agent\",\n",
    "    description=\"Is able to multiply two integers\",\n",
    "    system_prompt=\"A helpful assistant that can use a tool to multiply numbers.\",\n",
    "    llm=llm,\n",
    "    tools=[multiply]\n",
    ")\n",
    "\n",
    "addition_agent = ReActAgent(\n",
    "    name=\"add_agent\",\n",
    "    description=\"Is able to add two integers\",\n",
    "    system_prompt=\"A helpful assistant that can use a tool to add numbers.\",\n",
    "    tools=[add],\n",
    "    llm=llm\n",
    ")"
   ],
   "id": "81c5392835d00161",
   "outputs": [],
   "execution_count": null
  },
  {
   "metadata": {},
   "cell_type": "code",
   "source": [
    "workflow = AgentWorkflow(\n",
    "    agents=[addition_agent, multiply_agent],\n",
    "    root_agent=\"multiply_agent\",\n",
    "    initial_state={\"num_fn_calls\": 0},\n",
    "    state_prompt=\"Current state: {state}. User message: {msg}\"\n",
    ")"
   ],
   "id": "bc9c22c6df30da14",
   "outputs": [],
   "execution_count": null
  },
  {
   "metadata": {},
   "cell_type": "code",
   "source": "ctx = Context(workflow)",
   "id": "fe81f8850832f95e",
   "outputs": [],
   "execution_count": null
  },
  {
   "metadata": {},
   "cell_type": "code",
   "source": [
    "response = await workflow.run(user_msg=\"Can you multiply 5 and 3?\", ctx=ctx)\n",
    "print(response)"
   ],
   "id": "a702456fe83ce100",
   "outputs": [],
   "execution_count": null
  },
  {
   "metadata": {},
   "cell_type": "code",
   "source": [
    "state = await ctx.get(\"state\")\n",
    "print(state[\"num_fn_calls\"])"
   ],
   "id": "d3be4ff51c56faf1",
   "outputs": [],
   "execution_count": null
  }
 ],
 "metadata": {
  "kernelspec": {
   "display_name": "Python 3",
   "language": "python",
   "name": "python3"
  },
  "language_info": {
   "codemirror_mode": {
    "name": "ipython",
    "version": 2
   },
   "file_extension": ".py",
   "mimetype": "text/x-python",
   "name": "python",
   "nbconvert_exporter": "python",
   "pygments_lexer": "ipython2",
   "version": "2.7.6"
  }
 },
 "nbformat": 4,
 "nbformat_minor": 5
}
